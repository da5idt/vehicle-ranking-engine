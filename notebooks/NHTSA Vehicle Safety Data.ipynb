{
 "cells": [
  {
   "cell_type": "markdown",
   "metadata": {
    "application/vnd.databricks.v1+cell": {
     "cellMetadata": {},
     "inputWidgets": {},
     "nuid": "9ea672e4-0a6f-49a0-8a90-07494c9de1da",
     "showTitle": false,
     "tableResultSettingsMap": {},
     "title": ""
    }
   },
   "source": [
    "Extracting data from NHTSA's APIs.  \n",
    "[NHTSA Documentation](https://www.nhtsa.gov/nhtsa-datasets-and-apis) \n",
    "I want to hit each endpoint and extract all data from their site.  \n",
    "I am going to use this data to then determine which cars/trucks I want to evaluate for my next vehicle purchase.  "
   ]
  },
  {
   "cell_type": "code",
   "execution_count": 0,
   "metadata": {
    "application/vnd.databricks.v1+cell": {
     "cellMetadata": {
      "byteLimit": 2048000,
      "rowLimit": 10000
     },
     "inputWidgets": {},
     "nuid": "5df6a397-4148-4d5b-91dd-f07faf8dcabd",
     "showTitle": false,
     "tableResultSettingsMap": {},
     "title": ""
    }
   },
   "outputs": [],
   "source": [
    "import requests\n",
    "import pandas as pd\n",
    "\n",
    "# Define the endpoint\n",
    "url = \"https://api.nhtsa.gov/SafetyRatings\"\n",
    "\n",
    "# Make the request to the NHTSA API\n",
    "response = requests.get(url)\n",
    "data = response.json()\n",
    "\n",
    "# Extract the years from the response\n",
    "years = [item['ModelYear'] for item in data['Results']]\n",
    "\n",
    "# Convert the years to a DataFrame\n",
    "df_years = pd.DataFrame(years, columns=['Year'])\n",
    "\n",
    "# Display the DataFrame\n",
    "display(df_years)"
   ]
  }
 ],
 "metadata": {
  "application/vnd.databricks.v1+notebook": {
   "computePreferences": null,
   "dashboards": [],
   "environmentMetadata": {
    "base_environment": "",
    "environment_version": "2"
   },
   "inputWidgetPreferences": null,
   "language": "python",
   "notebookMetadata": {
    "pythonIndentUnit": 4
   },
   "notebookName": "NHTSA Vehicle Safety Data",
   "widgets": {}
  },
  "language_info": {
   "name": "python"
  }
 },
 "nbformat": 4,
 "nbformat_minor": 0
}
