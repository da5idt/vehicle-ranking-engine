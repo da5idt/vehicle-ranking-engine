{
 "cells": [
  {
   "cell_type": "markdown",
   "metadata": {
    "application/vnd.databricks.v1+cell": {
     "cellMetadata": {
      "byteLimit": 2048000,
      "rowLimit": 10000
     },
     "inputWidgets": {},
     "nuid": "9ea672e4-0a6f-49a0-8a90-07494c9de1da",
     "showTitle": false,
     "tableResultSettingsMap": {},
     "title": ""
    }
   },
   "source": [
    "# Extracting data from NHTSA's APIs.  \n",
    "[NHTSA Documentation](https://www.nhtsa.gov/nhtsa-datasets-and-apis) \n",
    "Purpose: To extract vehicle safety data from NHTSA and store in detla tables for further analysis.\n",
    "Approach: NHTSA APIs build on each other.  I will follow these steps:\n",
    "1. Pull the Years that they provide\n",
    "1. Pull the Make by Year\n",
    "1. Pull the Models by Year & Make\n",
    "1. Pull the Trim by Year, Make, & Model\n",
    "1. Pull the Safety Ratings by Year, Make, Model and Trim "
   ]
  },
  {
   "cell_type": "markdown",
   "metadata": {
    "application/vnd.databricks.v1+cell": {
     "cellMetadata": {
      "byteLimit": 2048000,
      "rowLimit": 10000
     },
     "inputWidgets": {},
     "nuid": "ac92249c-da01-4783-b8f3-759842afc16f",
     "showTitle": false,
     "tableResultSettingsMap": {},
     "title": ""
    }
   },
   "source": [
    "##Year\n",
    "**Purpose**: This code block is pulling the years that the NHTSA has data available for.\n",
    "\n",
    "**Inputs**:\n",
    "- NHTSA API endpoint: `https://api.nhtsa.gov/SafetyRatings`\n",
    "\n",
    "**Outputs**:\n",
    "- A Delta table named `nhtsa_safety_ratings.years`\n",
    "\n",
    "**Steps**:\n",
    "1. Import the `requests` library.\n",
    "1. Define the API endpoint URL.\n",
    "1. Make a GET request to the NHTSA API.\n",
    "1. Parse the JSON response.\n",
    "1. Extract the model years from the response.\n",
    "1. Convert the list of years to a Spark DataFrame.\n",
    "1. Create a schema if it doesn't exist.\n",
    "1. Write the DataFrame to a Delta table.\n",
    "1. Display the DataFrame."
   ]
  },
  {
   "cell_type": "code",
   "execution_count": 0,
   "metadata": {
    "application/vnd.databricks.v1+cell": {
     "cellMetadata": {
      "byteLimit": 2048000,
      "rowLimit": 10000
     },
     "inputWidgets": {},
     "nuid": "5df6a397-4148-4d5b-91dd-f07faf8dcabd",
     "showTitle": false,
     "tableResultSettingsMap": {},
     "title": ""
    }
   },
   "outputs": [],
   "source": [
    "import requests\n",
    "\n",
    "base_url = \"https://api.nhtsa.gov/SafetyRatings\"\n",
    "\n",
    "response = requests.get(base_url)\n",
    "data = response.json()\n",
    "\n",
    "years = [item['ModelYear'] for item in data['Results']]\n",
    "\n",
    "df_years = spark.createDataFrame(years, \"int\").toDF(\"Year\")\n",
    "display(df_years)\n",
    "\n",
    "spark.sql(\"CREATE SCHEMA IF NOT EXISTS nhtsa_safety_ratings\")\n",
    "df_years.write.format(\"delta\").mode(\"overwrite\").saveAsTable(\"nhtsa_safety_ratings.years\")"
   ]
  },
  {
   "cell_type": "markdown",
   "metadata": {
    "application/vnd.databricks.v1+cell": {
     "cellMetadata": {
      "byteLimit": 2048000,
      "rowLimit": 10000
     },
     "inputWidgets": {},
     "nuid": "9ecac9b3-d07c-4edc-9a22-a274b4fba525",
     "showTitle": false,
     "tableResultSettingsMap": {},
     "title": ""
    }
   },
   "source": [
    "##Make by Year\n",
    "**Purpose**: This cell fetches the Makes by Year from the NHTSA API and stores the results in a Delta table.\n",
    "\n",
    "**Inputs**:\n",
    "- Delta table nhtsa_safety_ratings.years\n",
    "\n",
    "**Outputs**:\n",
    "- A Delta table named nhtsa_safety_ratings.make\n",
    "\n",
    "**Steps**:\n",
    "1. Define the base URL for the NHTSA API.\n",
    "1. Collect the model years from the previously created Delta table.\n",
    "1. Initialize an empty list to store the results.\n",
    "1. Loop through each year, make a GET request to the NHTSA API, and parse the JSON response.\n",
    "1. Append the results to the list.\n",
    "1. Convert the list of results to a Spark DataFrame.\n",
    "1. Display the DataFrame.\n",
    "1. Write the DataFrame to a Delta table."
   ]
  },
  {
   "cell_type": "code",
   "execution_count": 0,
   "metadata": {
    "application/vnd.databricks.v1+cell": {
     "cellMetadata": {
      "byteLimit": 2048000,
      "rowLimit": 10000
     },
     "inputWidgets": {},
     "nuid": "4408e85f-701a-4ef5-98a1-94ff0435b9d6",
     "showTitle": false,
     "tableResultSettingsMap": {},
     "title": ""
    }
   },
   "outputs": [],
   "source": [
    "years = [row['Year'] for row in df_years.collect()]\n",
    "\n",
    "base_url = \"https://api.nhtsa.gov/SafetyRatings/modelyear/\"\n",
    "\n",
    "make_results = []\n",
    "for year in years:\n",
    "    url = f\"{base_url}{year}\"\n",
    "    response = requests.get(url)\n",
    "    data = response.json()\n",
    "    for item in data.get('Results', []):\n",
    "        make_results.append(item)\n",
    "\n",
    "df_makes = spark.createDataFrame(make_results)\n",
    "display(df_makes)\n",
    "\n",
    "df_makes.write.format(\"delta\").mode(\"overwrite\").saveAsTable(\"nhtsa_safety_ratings.make\")"
   ]
  },
  {
   "cell_type": "markdown",
   "metadata": {
    "application/vnd.databricks.v1+cell": {
     "cellMetadata": {
      "byteLimit": 2048000,
      "rowLimit": 10000
     },
     "inputWidgets": {},
     "nuid": "5d162668-2685-4a2e-96a0-3ad619841d5f",
     "showTitle": false,
     "tableResultSettingsMap": {},
     "title": ""
    }
   },
   "source": [
    "## Model by Year & Make\n",
    "**Purpose**: This cell fetches the Models by Year and Make from the NHTSA API and stores the results in a Delta table.\n",
    "\n",
    "**Inputs**:\n",
    "- Delta table nhtsa_safety_ratings.make \n",
    "\n",
    "**Outputs**:\n",
    "- A Delta table named nhtsa_safety_ratings.model\n",
    "\n",
    "**Steps**:\n",
    "1. Read the Delta table into a DataFrame.\n",
    "1. Collect distinct make and model year combinations.\n",
    "1. Define the base URL for the NHTSA API.\n",
    "1. Initialize an empty list to store the results.\n",
    "1. Loop through each make and model year combination, make a GET request to the NHTSA API, and parse the JSON response.\n",
    "1. Append the results to the list.\n",
    "1. Convert the list of results to a Spark DataFrame.\n",
    "1. Display the DataFrame.\n",
    "1. Write the DataFrame to a Delta table."
   ]
  },
  {
   "cell_type": "code",
   "execution_count": 0,
   "metadata": {
    "application/vnd.databricks.v1+cell": {
     "cellMetadata": {
      "byteLimit": 2048000,
      "rowLimit": 10000
     },
     "inputWidgets": {},
     "nuid": "337114f7-639c-4a04-9e9b-13a97ca35e0a",
     "showTitle": false,
     "tableResultSettingsMap": {},
     "title": ""
    }
   },
   "outputs": [],
   "source": [
    "make_year_combinations = df_makes.select(\"Make\", \"ModelYear\").distinct().collect()\n",
    "\n",
    "base_url = \"https://api.nhtsa.gov/SafetyRatings/modelyear/\"\n",
    "\n",
    "model_results = []\n",
    "for row in make_year_combinations:\n",
    "    make = row['Make']\n",
    "    modelyear = row['ModelYear']\n",
    "    url = f\"{base_url}{modelyear}/make/{make}\"\n",
    "    response = requests.get(url)\n",
    "    data = response.json()\n",
    "    for item in data.get('Results', []):\n",
    "        model_results.append(item)\n",
    "\n",
    "df_models = spark.createDataFrame(model_results)\n",
    "display(df_models)\n",
    "\n",
    "df_models.write.format(\"delta\").mode(\"overwrite\").saveAsTable(\"nhtsa_safety_ratings.model\")"
   ]
  },
  {
   "cell_type": "markdown",
   "metadata": {
    "application/vnd.databricks.v1+cell": {
     "cellMetadata": {
      "byteLimit": 2048000,
      "rowLimit": 10000
     },
     "inputWidgets": {},
     "nuid": "2ebc6551-dfe6-4fde-bacd-89886e4f530a",
     "showTitle": false,
     "tableResultSettingsMap": {},
     "title": ""
    }
   },
   "source": [
    "## Variants by Year, Make, & Model\n",
    "**Purpose**: This cell fetches the Variants (Trim) by Year, Make, and Model from the NHTSA API and stores the results in a Delta table.\n",
    "\n",
    "**Inputs**:\n",
    "- Delta table nhtsa_safety_ratings.model\n",
    "\n",
    "**Outputs**:\n",
    "- A Delta table named nhtsa_safety_ratings.variant\n",
    "\n",
    "**Steps**:\n",
    "1. Read the Delta table into a DataFrame.\n",
    "1. Collect distinct make and model year combinations.\n",
    "1. Define the base URL for the NHTSA API.\n",
    "1. Initialize an empty list to store the results.\n",
    "1. Loop through each year, make and model, make a GET request to the NHTSA API, and parse the JSON response.\n",
    "1. Append the results to the list.\n",
    "1. Convert the list of results to a Spark DataFrame.\n",
    "1. Display the DataFrame.\n",
    "1. Write the DataFrame to a Delta table."
   ]
  },
  {
   "cell_type": "code",
   "execution_count": 0,
   "metadata": {
    "application/vnd.databricks.v1+cell": {
     "cellMetadata": {
      "byteLimit": 2048000,
      "rowLimit": 10000
     },
     "inputWidgets": {},
     "nuid": "77f95406-0328-459b-83b6-e6fbf3f8b3fa",
     "showTitle": false,
     "tableResultSettingsMap": {},
     "title": ""
    }
   },
   "outputs": [],
   "source": [
    "# Collect the make and year combinations\n",
    "model_make_year_combinations = df_models.select(\"Model\",\"Make\", \"ModelYear\").distinct().collect()\n",
    "\n",
    "base_url = \"https://api.nhtsa.gov/SafetyRatings/modelyear/\"\n",
    "\n",
    "variant_results = []\n",
    "for row in model_make_year_combinations:\n",
    "    model = row['Model']\n",
    "    make = row['Make']\n",
    "    modelyear = row['ModelYear']\n",
    "    url = f\"{base_url}{modelyear}/make/{make}/model/{model}\"\n",
    "    response = requests.get(url)\n",
    "    data = response.json()\n",
    "    for item in data.get('Results', []):\n",
    "        item['Model'] = model\n",
    "        item['Make'] = make\n",
    "        item['ModelYear'] = modelyear\n",
    "        variant_results.append(item)\n",
    "\n",
    "df_variants = spark.createDataFrame(variant_results)\n",
    "display(df_variants)\n",
    "\n",
    "df_variants.write.format(\"delta\").mode(\"overwrite\").saveAsTable(\"nhtsa_safety_ratings.variants\")\n"
   ]
  },
  {
   "cell_type": "markdown",
   "metadata": {
    "application/vnd.databricks.v1+cell": {
     "cellMetadata": {
      "byteLimit": 2048000,
      "rowLimit": 10000
     },
     "inputWidgets": {},
     "nuid": "01c7ecfb-ba46-4392-beab-033204e8d75b",
     "showTitle": false,
     "tableResultSettingsMap": {},
     "title": ""
    }
   },
   "source": [
    "## Safety Ratings by Variants, Year, Make, & Model\n",
    "**Purpose**: This cell fetches the Safety Ratings by Year, Make, Model, and Variants from the NHTSA API and stores the results in a Delta table.\n",
    "\n",
    "**Inputs**:\n",
    "- Delta table nhtsa_safety_ratings.variants\n",
    "\n",
    "**Outputs**:\n",
    "- A Delta table named nhtsa_safety_ratings.safety_ratings\n",
    "\n",
    "**Steps**:\n",
    "1. Read the Delta table into a DataFrame.\n",
    "1. Collect distinct make and model year combinations.\n",
    "1. Define the base URL for the NHTSA API.\n",
    "1. Initialize an empty list to store the results.\n",
    "1. Loop through each year, make, model and variant, make a GET request to the NHTSA API, and parse the JSON response.\n",
    "1. Append the results to the list.\n",
    "1. Convert the list of results to a Spark DataFrame.\n",
    "1. Display the DataFrame.\n",
    "1. Write the DataFrame to a Delta table."
   ]
  },
  {
   "cell_type": "code",
   "execution_count": 0,
   "metadata": {
    "application/vnd.databricks.v1+cell": {
     "cellMetadata": {
      "byteLimit": 2048000,
      "rowLimit": 10000
     },
     "inputWidgets": {},
     "nuid": "f6f1b660-3123-406b-bdc3-e5ce642e4245",
     "showTitle": false,
     "tableResultSettingsMap": {},
     "title": ""
    }
   },
   "outputs": [],
   "source": [
    "# Collect the make and year combinations\n",
    "model_make_year_variant_combinations = df_variants.select(\n",
    "    \"VehicleId\", \"Model\", \"Make\", \"ModelYear\"\n",
    ").distinct().collect()\n",
    "\n",
    "base_url = \"https://api.nhtsa.gov/SafetyRatings/\"\n",
    "\n",
    "safety_results = []\n",
    "for row in model_make_year_variant_combinations:\n",
    "    vehicleid = row['VehicleId']\n",
    "    model = row['Model']\n",
    "    make = row['Make']\n",
    "    modelyear = row['ModelYear']\n",
    "    url = f\"{base_url}VehicleId/{vehicleid}\"\n",
    "    response = requests.get(url)\n",
    "    data = response.json()\n",
    "    for item in data.get('Results', []):\n",
    "        item['VehicleId'] = vehicleid\n",
    "        item['Model'] = model\n",
    "        item['Make'] = make\n",
    "        item['ModelYear'] = modelyear         \n",
    "        safety_results.append(item)\n",
    "\n",
    "df_safety_ratings = spark.createDataFrame(safety_results)\n",
    "display(df_safety_ratings)\n",
    "\n",
    "df_safety_ratings.write.format(\"delta\").mode(\"overwrite\").saveAsTable(\"nhtsa_safety_ratings.safety_ratings\")"
   ]
  }
 ],
 "metadata": {
  "application/vnd.databricks.v1+notebook": {
   "computePreferences": null,
   "dashboards": [],
   "environmentMetadata": {
    "base_environment": "",
    "environment_version": "2"
   },
   "inputWidgetPreferences": null,
   "language": "python",
   "notebookMetadata": {
    "pythonIndentUnit": 4
   },
   "notebookName": "NHTSA Vehicle Safety Data",
   "widgets": {}
  },
  "language_info": {
   "name": "python"
  }
 },
 "nbformat": 4,
 "nbformat_minor": 0
}
