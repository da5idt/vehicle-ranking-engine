{
 "cells": [
  {
   "cell_type": "markdown",
   "metadata": {
    "application/vnd.databricks.v1+cell": {
     "cellMetadata": {
      "byteLimit": 2048000,
      "rowLimit": 10000
     },
     "inputWidgets": {},
     "nuid": "9ea672e4-0a6f-49a0-8a90-07494c9de1da",
     "showTitle": false,
     "tableResultSettingsMap": {},
     "title": ""
    }
   },
   "source": [
    "# Extracting data from NHTSA's APIs.  \n",
    "[NHTSA Documentation](https://www.nhtsa.gov/nhtsa-datasets-and-apis) \n",
    "Purpose: To extract vehicle safety data from NHTSA and store in detla tables for further analysis.\n",
    "Approach: NHTSA APIs build on each other.  I will follow these steps:\n",
    "1. Pull the Years that they provide\n",
    "1. Pull the Make by Year\n",
    "1. Pull the Models by Year & Make\n",
    "1. Pull the Trim by Year, Make, & Model\n",
    "1. Pull the Safety Ratings by Year, Make, Model and Trim "
   ]
  },
  {
   "cell_type": "markdown",
   "metadata": {
    "application/vnd.databricks.v1+cell": {
     "cellMetadata": {
      "byteLimit": 2048000,
      "rowLimit": 10000
     },
     "inputWidgets": {},
     "nuid": "ac92249c-da01-4783-b8f3-759842afc16f",
     "showTitle": false,
     "tableResultSettingsMap": {},
     "title": ""
    }
   },
   "source": [
    "This code block is pulling the years that the NHTSA has data available for."
   ]
  },
  {
   "cell_type": "code",
   "execution_count": 0,
   "metadata": {
    "application/vnd.databricks.v1+cell": {
     "cellMetadata": {
      "byteLimit": 2048000,
      "rowLimit": 10000
     },
     "inputWidgets": {},
     "nuid": "5df6a397-4148-4d5b-91dd-f07faf8dcabd",
     "showTitle": false,
     "tableResultSettingsMap": {},
     "title": ""
    }
   },
   "outputs": [],
   "source": [
    "import requests\n",
    "\n",
    "# Define the endpoint\n",
    "url = \"https://api.nhtsa.gov/SafetyRatings\"\n",
    "\n",
    "# Make the request to the NHTSA API\n",
    "response = requests.get(url)\n",
    "data = response.json()\n",
    "\n",
    "# Extract the years from the response\n",
    "years = [item['ModelYear'] for item in data['Results']]\n",
    "\n",
    "# Convert the years to a DataFrame\n",
    "df_years = spark.createDataFrame(years, \"int\").toDF(\"Year\")\n",
    "\n",
    "# Write the DataFrame to a Delta table\n",
    "df_years.write.format(\"delta\").mode(\"overwrite\").saveAsTable(\"nhtsa_safety_ratings_years\")\n",
    "\n",
    "# Display the DataFrame\n",
    "display(df_years)"
   ]
  },
  {
   "cell_type": "markdown",
   "metadata": {
    "application/vnd.databricks.v1+cell": {
     "cellMetadata": {
      "byteLimit": 2048000,
      "rowLimit": 10000
     },
     "inputWidgets": {},
     "nuid": "9ecac9b3-d07c-4edc-9a22-a274b4fba525",
     "showTitle": false,
     "tableResultSettingsMap": {},
     "title": ""
    }
   },
   "source": [
    "Now we need to pass in each year to get all available Makes by Year and write that to a delta table"
   ]
  },
  {
   "cell_type": "code",
   "execution_count": 0,
   "metadata": {
    "application/vnd.databricks.v1+cell": {
     "cellMetadata": {
      "byteLimit": 2048000,
      "rowLimit": 10000
     },
     "inputWidgets": {},
     "nuid": "4408e85f-701a-4ef5-98a1-94ff0435b9d6",
     "showTitle": false,
     "tableResultSettingsMap": {},
     "title": ""
    }
   },
   "outputs": [],
   "source": [
    "import requests\n",
    "\n",
    "base_url = \"https://api.nhtsa.gov/SafetyRatings/modelyear/\"\n",
    "\n",
    "years = [row['Year'] for row in df_years.collect()]\n",
    "\n",
    "results = []\n",
    "for year in years:\n",
    "    url = f\"{base_url}{year}\"\n",
    "    response = requests.get(url)\n",
    "    data = response.json()\n",
    "    for item in data.get('Results', []):\n",
    "        item['Year'] = year\n",
    "        results.append(item)\n",
    "\n",
    "df_results = spark.createDataFrame(results)\n",
    "display(df_results)\n",
    "\n",
    "df_results.write.format(\"delta\").mode(\"overwrite\").saveAsTable(\"nhtsa_safety_ratings_make_year\")"
   ]
  },
  {
   "cell_type": "markdown",
   "metadata": {
    "application/vnd.databricks.v1+cell": {
     "cellMetadata": {
      "byteLimit": 2048000,
      "rowLimit": 10000
     },
     "inputWidgets": {},
     "nuid": "5d162668-2685-4a2e-96a0-3ad619841d5f",
     "showTitle": false,
     "tableResultSettingsMap": {},
     "title": ""
    }
   },
   "source": [
    "Now we need to get the makes for each make and year combination from the nhtsa_safety_ratings_make_year table."
   ]
  },
  {
   "cell_type": "code",
   "execution_count": 0,
   "metadata": {
    "application/vnd.databricks.v1+cell": {
     "cellMetadata": {
      "byteLimit": 2048000,
      "rowLimit": 10000
     },
     "inputWidgets": {},
     "nuid": "337114f7-639c-4a04-9e9b-13a97ca35e0a",
     "showTitle": false,
     "tableResultSettingsMap": {},
     "title": ""
    }
   },
   "outputs": [],
   "source": [
    "import requests\n",
    "\n",
    "# Read the table into a DataFrame\n",
    "df_make_year = spark.table(\"nhtsa_safety_ratings_make_year\")\n",
    "\n",
    "# Collect the make and year combinations\n",
    "make_year_combinations = df_make_year.select(\"Make\", \"ModelYear\").distinct().collect()\n",
    "\n",
    "base_url = \"https://api.nhtsa.gov/SafetyRatings/modelyear/\"\n",
    "\n",
    "results = []\n",
    "for row in make_year_combinations:\n",
    "    make = row['Make']\n",
    "    modelyear = row['ModelYear']\n",
    "    url = f\"{base_url}{modelyear}/make/{make}\"\n",
    "ZZZZZZ   data = response.json()\n",
    "    for item in data.get('Results', []):\n",
    "        item['Make'] = make\n",
    "        item['ModelYear'] = modelyear\n",
    "        results.append(item)\n",
    "\n",
    "df_make_year_results = spark.createDataFrame(results)\n",
    "display(df_make_year_results)\n",
    "\n",
    "df_make_year_results.write.format(\"delta\").mode(\"overwrite\").saveAsTable(\"nhtsa_safety_ratings_make_model_ppzppzppzxyear_model\")"
   ]
  },
  {
   "cell_type": "markdown",
   "metadata": {
    "application/vnd.databricks.v1+cell": {
     "cellMetadata": {},
     "inputWidgets": {},
     "nuid": "2ebc6551-dfe6-4fde-bacd-89886e4f530a",
     "showTitle": false,
     "tableResultSettingsMap": {},
     "title": ""
    }
   },
   "source": [
    "Now we need to get the trim for each make, model and year combination from the nhtsa_safety_ratings_make_year_model\n",
    "nhtsa_safety_ratings_make_year table."
   ]
  }
 ],
 "metadata": {
  "application/vnd.databricks.v1+notebook": {
   "computePreferences": null,
   "dashboards": [],
   "environmentMetadata": {
    "base_environment": "",
    "environment_version": "2"
   },
   "inputWidgetPreferences": null,
   "language": "python",
   "notebookMetadata": {
    "pythonIndentUnit": 4
   },
   "notebookName": "NHTSA Vehicle Safety Data",
   "widgets": {}
  },
  "language_info": {
   "name": "python"
  }
 },
 "nbformat": 4,
 "nbformat_minor": 0
}
